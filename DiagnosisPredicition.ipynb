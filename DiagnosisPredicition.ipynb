{
 "cells": [
  {
   "cell_type": "code",
   "execution_count": 1,
   "id": "2e3eb91f",
   "metadata": {},
   "outputs": [
    {
     "name": "stdout",
     "output_type": "stream",
     "text": [
      "Requirement already satisfied: seaborn in ./opt/anaconda3/lib/python3.9/site-packages (0.11.2)\n",
      "Requirement already satisfied: scipy>=1.0 in ./opt/anaconda3/lib/python3.9/site-packages (from seaborn) (1.7.1)\n",
      "Requirement already satisfied: matplotlib>=2.2 in ./opt/anaconda3/lib/python3.9/site-packages (from seaborn) (3.4.3)\n",
      "Requirement already satisfied: pandas>=0.23 in ./opt/anaconda3/lib/python3.9/site-packages (from seaborn) (1.3.4)\n",
      "Requirement already satisfied: numpy>=1.15 in ./opt/anaconda3/lib/python3.9/site-packages (from seaborn) (1.20.3)\n",
      "Requirement already satisfied: kiwisolver>=1.0.1 in ./opt/anaconda3/lib/python3.9/site-packages (from matplotlib>=2.2->seaborn) (1.3.1)\n",
      "Requirement already satisfied: python-dateutil>=2.7 in ./opt/anaconda3/lib/python3.9/site-packages (from matplotlib>=2.2->seaborn) (2.8.2)\n",
      "Requirement already satisfied: cycler>=0.10 in ./opt/anaconda3/lib/python3.9/site-packages (from matplotlib>=2.2->seaborn) (0.10.0)\n",
      "Requirement already satisfied: pyparsing>=2.2.1 in ./opt/anaconda3/lib/python3.9/site-packages (from matplotlib>=2.2->seaborn) (3.0.4)\n",
      "Requirement already satisfied: pillow>=6.2.0 in ./opt/anaconda3/lib/python3.9/site-packages (from matplotlib>=2.2->seaborn) (8.4.0)\n",
      "Requirement already satisfied: six in ./opt/anaconda3/lib/python3.9/site-packages (from cycler>=0.10->matplotlib>=2.2->seaborn) (1.16.0)\n",
      "Requirement already satisfied: pytz>=2017.3 in ./opt/anaconda3/lib/python3.9/site-packages (from pandas>=0.23->seaborn) (2021.3)\n",
      "Note: you may need to restart the kernel to use updated packages.\n"
     ]
    }
   ],
   "source": [
    "%pip install seaborn"
   ]
  },
  {
   "cell_type": "code",
   "execution_count": 2,
   "id": "2cfc9abe",
   "metadata": {},
   "outputs": [],
   "source": [
    "import pandas as pd\n",
    "import matplotlib.pyplot as plt\n",
    "import seaborn as sns\n",
    "\n",
    "df = pd.read_csv(\"DataSpace.csv\")"
   ]
  },
  {
   "cell_type": "code",
   "execution_count": 3,
   "id": "ab03107f",
   "metadata": {},
   "outputs": [
    {
     "data": {
      "text/html": [
       "<div>\n",
       "<style scoped>\n",
       "    .dataframe tbody tr th:only-of-type {\n",
       "        vertical-align: middle;\n",
       "    }\n",
       "\n",
       "    .dataframe tbody tr th {\n",
       "        vertical-align: top;\n",
       "    }\n",
       "\n",
       "    .dataframe thead th {\n",
       "        text-align: right;\n",
       "    }\n",
       "</style>\n",
       "<table border=\"1\" class=\"dataframe\">\n",
       "  <thead>\n",
       "    <tr style=\"text-align: right;\">\n",
       "      <th></th>\n",
       "      <th>Diagnosis</th>\n",
       "      <th>Age at Diagnosis</th>\n",
       "      <th>Sex</th>\n",
       "      <th>Year at Diagnosis</th>\n",
       "      <th>Month</th>\n",
       "      <th>Onset</th>\n",
       "      <th>Hallucinations</th>\n",
       "      <th>Rhonchi</th>\n",
       "      <th>Crepitations</th>\n",
       "      <th>Panic attacks</th>\n",
       "      <th>...</th>\n",
       "      <th>Highest Temperature</th>\n",
       "      <th>Labs</th>\n",
       "      <th>Treatment</th>\n",
       "      <th>Treatment.1</th>\n",
       "      <th>Treatment.2</th>\n",
       "      <th>Outcome</th>\n",
       "      <th>Medical Insuarance</th>\n",
       "      <th>Nationality</th>\n",
       "      <th>County</th>\n",
       "      <th>Residence</th>\n",
       "    </tr>\n",
       "  </thead>\n",
       "  <tbody>\n",
       "    <tr>\n",
       "      <th>0</th>\n",
       "      <td>Sepsis</td>\n",
       "      <td>1</td>\n",
       "      <td>M</td>\n",
       "      <td>2019</td>\n",
       "      <td>September</td>\n",
       "      <td>7</td>\n",
       "      <td>No</td>\n",
       "      <td>No</td>\n",
       "      <td>No</td>\n",
       "      <td>No</td>\n",
       "      <td>...</td>\n",
       "      <td>36.7</td>\n",
       "      <td>NaN</td>\n",
       "      <td>Ceftriaxone,Metronidazole,Nyastatin,Hydrocorti...</td>\n",
       "      <td>Ceftriaxone,Metronidazole,Nyastatin,Hydrocorti...</td>\n",
       "      <td>Ceftriaxone,Metronidazole,Nyastatin,Hydrocorti...</td>\n",
       "      <td>Dead</td>\n",
       "      <td>None</td>\n",
       "      <td>Kenya</td>\n",
       "      <td>Kakamega</td>\n",
       "      <td>Fubuye</td>\n",
       "    </tr>\n",
       "    <tr>\n",
       "      <th>1</th>\n",
       "      <td>Panic Attacks</td>\n",
       "      <td>1</td>\n",
       "      <td>M</td>\n",
       "      <td>2020</td>\n",
       "      <td>May</td>\n",
       "      <td>1</td>\n",
       "      <td>No</td>\n",
       "      <td>No</td>\n",
       "      <td>No</td>\n",
       "      <td>Yes</td>\n",
       "      <td>...</td>\n",
       "      <td>38.9</td>\n",
       "      <td>WBC - 10. 2, Lymph# - 4.1, Gran# - 4.9 Mid# - ...</td>\n",
       "      <td>Paracetamol,Ceftriaxone</td>\n",
       "      <td>Paracetamol,Ceftriaxone</td>\n",
       "      <td>Paracetamol,Ceftriaxone</td>\n",
       "      <td>Alive</td>\n",
       "      <td>NHIF</td>\n",
       "      <td>Kenyan</td>\n",
       "      <td>Kakamega</td>\n",
       "      <td>Ivonda</td>\n",
       "    </tr>\n",
       "    <tr>\n",
       "      <th>2</th>\n",
       "      <td>Pneumonia</td>\n",
       "      <td>1</td>\n",
       "      <td>M</td>\n",
       "      <td>2020</td>\n",
       "      <td>January</td>\n",
       "      <td>2</td>\n",
       "      <td>No</td>\n",
       "      <td>No</td>\n",
       "      <td>No</td>\n",
       "      <td>No</td>\n",
       "      <td>...</td>\n",
       "      <td>36.9</td>\n",
       "      <td>NaN</td>\n",
       "      <td>Benzyl Penicillin,Gentamycin,Paracetamol</td>\n",
       "      <td>Benzyl Penicillin,Gentamycin,Paracetamol</td>\n",
       "      <td>Benzyl Penicillin,Gentamycin,Paracetamol</td>\n",
       "      <td>Alive</td>\n",
       "      <td>None</td>\n",
       "      <td>Kenya</td>\n",
       "      <td>Kakamega</td>\n",
       "      <td>Shinyalu</td>\n",
       "    </tr>\n",
       "    <tr>\n",
       "      <th>3</th>\n",
       "      <td>Hydrocephalus</td>\n",
       "      <td>2</td>\n",
       "      <td>M</td>\n",
       "      <td>2020</td>\n",
       "      <td>April</td>\n",
       "      <td>3</td>\n",
       "      <td>No</td>\n",
       "      <td>No</td>\n",
       "      <td>No</td>\n",
       "      <td>No</td>\n",
       "      <td>...</td>\n",
       "      <td>38.8</td>\n",
       "      <td>WBC - 16.4 (10^9)L , Lymph# - 5.0  (10^9)L , G...</td>\n",
       "      <td>Paracetamol,Ceftriaxone</td>\n",
       "      <td>Paracetamol,Ceftriaxone</td>\n",
       "      <td>Paracetamol,Ceftriaxone</td>\n",
       "      <td>Alive</td>\n",
       "      <td>None</td>\n",
       "      <td>Kenyan</td>\n",
       "      <td>Kakamega</td>\n",
       "      <td>Shikokho</td>\n",
       "    </tr>\n",
       "    <tr>\n",
       "      <th>4</th>\n",
       "      <td>Sepsis</td>\n",
       "      <td>5</td>\n",
       "      <td>F</td>\n",
       "      <td>2020</td>\n",
       "      <td>May</td>\n",
       "      <td>3</td>\n",
       "      <td>No</td>\n",
       "      <td>No</td>\n",
       "      <td>No</td>\n",
       "      <td>No</td>\n",
       "      <td>...</td>\n",
       "      <td>39.5</td>\n",
       "      <td>WBC - 17.0  (10^9)L , Lymph# - 3.2 (10^9)L , G...</td>\n",
       "      <td>XPenicillin,Gentamycin,Paracetamol</td>\n",
       "      <td>XPenicillin,Gentamycin,Paracetamol</td>\n",
       "      <td>XPenicillin,Gentamycin,Paracetamol</td>\n",
       "      <td>Alive</td>\n",
       "      <td>NHIF</td>\n",
       "      <td>Kenyan</td>\n",
       "      <td>Kakamega</td>\n",
       "      <td>Masiyenze</td>\n",
       "    </tr>\n",
       "  </tbody>\n",
       "</table>\n",
       "<p>5 rows × 62 columns</p>\n",
       "</div>"
      ],
      "text/plain": [
       "       Diagnosis  Age at Diagnosis Sex  Year at Diagnosis      Month  Onset  \\\n",
       "0         Sepsis                 1   M               2019  September      7   \n",
       "1  Panic Attacks                 1   M               2020        May      1   \n",
       "2      Pneumonia                 1   M               2020    January      2   \n",
       "3  Hydrocephalus                 2   M               2020      April      3   \n",
       "4         Sepsis                 5   F               2020        May      3   \n",
       "\n",
       "  Hallucinations Rhonchi Crepitations Panic attacks  ... Highest Temperature  \\\n",
       "0             No      No           No            No  ...                36.7   \n",
       "1             No      No           No           Yes  ...                38.9   \n",
       "2             No      No           No            No  ...                36.9   \n",
       "3             No      No           No            No  ...                38.8   \n",
       "4             No      No           No            No  ...                39.5   \n",
       "\n",
       "                                                Labs  \\\n",
       "0                                                NaN   \n",
       "1  WBC - 10. 2, Lymph# - 4.1, Gran# - 4.9 Mid# - ...   \n",
       "2                                                NaN   \n",
       "3  WBC - 16.4 (10^9)L , Lymph# - 5.0  (10^9)L , G...   \n",
       "4  WBC - 17.0  (10^9)L , Lymph# - 3.2 (10^9)L , G...   \n",
       "\n",
       "                                           Treatment  \\\n",
       "0  Ceftriaxone,Metronidazole,Nyastatin,Hydrocorti...   \n",
       "1                            Paracetamol,Ceftriaxone   \n",
       "2           Benzyl Penicillin,Gentamycin,Paracetamol   \n",
       "3                            Paracetamol,Ceftriaxone   \n",
       "4                 XPenicillin,Gentamycin,Paracetamol   \n",
       "\n",
       "                                         Treatment.1  \\\n",
       "0  Ceftriaxone,Metronidazole,Nyastatin,Hydrocorti...   \n",
       "1                            Paracetamol,Ceftriaxone   \n",
       "2           Benzyl Penicillin,Gentamycin,Paracetamol   \n",
       "3                            Paracetamol,Ceftriaxone   \n",
       "4                 XPenicillin,Gentamycin,Paracetamol   \n",
       "\n",
       "                                         Treatment.2 Outcome  \\\n",
       "0  Ceftriaxone,Metronidazole,Nyastatin,Hydrocorti...    Dead   \n",
       "1                            Paracetamol,Ceftriaxone   Alive   \n",
       "2           Benzyl Penicillin,Gentamycin,Paracetamol   Alive   \n",
       "3                            Paracetamol,Ceftriaxone   Alive   \n",
       "4                 XPenicillin,Gentamycin,Paracetamol   Alive   \n",
       "\n",
       "  Medical Insuarance Nationality    County  Residence  \n",
       "0               None       Kenya  Kakamega     Fubuye  \n",
       "1               NHIF      Kenyan  Kakamega     Ivonda  \n",
       "2               None       Kenya  Kakamega   Shinyalu  \n",
       "3               None      Kenyan  Kakamega   Shikokho  \n",
       "4               NHIF      Kenyan  Kakamega  Masiyenze  \n",
       "\n",
       "[5 rows x 62 columns]"
      ]
     },
     "execution_count": 3,
     "metadata": {},
     "output_type": "execute_result"
    }
   ],
   "source": [
    "df.head()"
   ]
  },
  {
   "cell_type": "code",
   "execution_count": 4,
   "id": "5f01b0ac",
   "metadata": {},
   "outputs": [
    {
     "data": {
      "text/html": [
       "<div>\n",
       "<style scoped>\n",
       "    .dataframe tbody tr th:only-of-type {\n",
       "        vertical-align: middle;\n",
       "    }\n",
       "\n",
       "    .dataframe tbody tr th {\n",
       "        vertical-align: top;\n",
       "    }\n",
       "\n",
       "    .dataframe thead th {\n",
       "        text-align: right;\n",
       "    }\n",
       "</style>\n",
       "<table border=\"1\" class=\"dataframe\">\n",
       "  <thead>\n",
       "    <tr style=\"text-align: right;\">\n",
       "      <th></th>\n",
       "      <th>Age at Diagnosis</th>\n",
       "      <th>Year at Diagnosis</th>\n",
       "      <th>Onset</th>\n",
       "      <th>Highest Temperature</th>\n",
       "    </tr>\n",
       "  </thead>\n",
       "  <tbody>\n",
       "    <tr>\n",
       "      <th>count</th>\n",
       "      <td>192.000000</td>\n",
       "      <td>192.000000</td>\n",
       "      <td>192.000000</td>\n",
       "      <td>192.000000</td>\n",
       "    </tr>\n",
       "    <tr>\n",
       "      <th>mean</th>\n",
       "      <td>3.166667</td>\n",
       "      <td>2019.260417</td>\n",
       "      <td>3.046875</td>\n",
       "      <td>37.917708</td>\n",
       "    </tr>\n",
       "    <tr>\n",
       "      <th>std</th>\n",
       "      <td>3.298950</td>\n",
       "      <td>0.659125</td>\n",
       "      <td>5.298710</td>\n",
       "      <td>1.141781</td>\n",
       "    </tr>\n",
       "    <tr>\n",
       "      <th>min</th>\n",
       "      <td>0.000000</td>\n",
       "      <td>2018.000000</td>\n",
       "      <td>1.000000</td>\n",
       "      <td>34.000000</td>\n",
       "    </tr>\n",
       "    <tr>\n",
       "      <th>25%</th>\n",
       "      <td>1.000000</td>\n",
       "      <td>2019.000000</td>\n",
       "      <td>1.000000</td>\n",
       "      <td>37.000000</td>\n",
       "    </tr>\n",
       "    <tr>\n",
       "      <th>50%</th>\n",
       "      <td>2.000000</td>\n",
       "      <td>2019.000000</td>\n",
       "      <td>2.000000</td>\n",
       "      <td>37.800000</td>\n",
       "    </tr>\n",
       "    <tr>\n",
       "      <th>75%</th>\n",
       "      <td>4.000000</td>\n",
       "      <td>2020.000000</td>\n",
       "      <td>3.000000</td>\n",
       "      <td>38.700000</td>\n",
       "    </tr>\n",
       "    <tr>\n",
       "      <th>max</th>\n",
       "      <td>13.000000</td>\n",
       "      <td>2020.000000</td>\n",
       "      <td>60.000000</td>\n",
       "      <td>40.500000</td>\n",
       "    </tr>\n",
       "  </tbody>\n",
       "</table>\n",
       "</div>"
      ],
      "text/plain": [
       "       Age at Diagnosis  Year at Diagnosis       Onset  Highest Temperature\n",
       "count        192.000000         192.000000  192.000000           192.000000\n",
       "mean           3.166667        2019.260417    3.046875            37.917708\n",
       "std            3.298950           0.659125    5.298710             1.141781\n",
       "min            0.000000        2018.000000    1.000000            34.000000\n",
       "25%            1.000000        2019.000000    1.000000            37.000000\n",
       "50%            2.000000        2019.000000    2.000000            37.800000\n",
       "75%            4.000000        2020.000000    3.000000            38.700000\n",
       "max           13.000000        2020.000000   60.000000            40.500000"
      ]
     },
     "execution_count": 4,
     "metadata": {},
     "output_type": "execute_result"
    }
   ],
   "source": [
    "df.describe()"
   ]
  },
  {
   "cell_type": "code",
   "execution_count": 5,
   "id": "deac9d50",
   "metadata": {},
   "outputs": [
    {
     "data": {
      "text/html": [
       "<div>\n",
       "<style scoped>\n",
       "    .dataframe tbody tr th:only-of-type {\n",
       "        vertical-align: middle;\n",
       "    }\n",
       "\n",
       "    .dataframe tbody tr th {\n",
       "        vertical-align: top;\n",
       "    }\n",
       "\n",
       "    .dataframe thead th {\n",
       "        text-align: right;\n",
       "    }\n",
       "</style>\n",
       "<table border=\"1\" class=\"dataframe\">\n",
       "  <thead>\n",
       "    <tr style=\"text-align: right;\">\n",
       "      <th></th>\n",
       "      <th>Diagnosis</th>\n",
       "      <th>Age at Diagnosis</th>\n",
       "      <th>Sex</th>\n",
       "      <th>Year at Diagnosis</th>\n",
       "      <th>Month</th>\n",
       "      <th>Onset</th>\n",
       "      <th>Hallucinations</th>\n",
       "      <th>Rhonchi</th>\n",
       "      <th>Crepitations</th>\n",
       "      <th>Panic attacks</th>\n",
       "      <th>...</th>\n",
       "      <th>Highest Temperature</th>\n",
       "      <th>Labs</th>\n",
       "      <th>Treatment</th>\n",
       "      <th>Treatment.1</th>\n",
       "      <th>Treatment.2</th>\n",
       "      <th>Outcome</th>\n",
       "      <th>Medical Insuarance</th>\n",
       "      <th>Nationality</th>\n",
       "      <th>County</th>\n",
       "      <th>Residence</th>\n",
       "    </tr>\n",
       "  </thead>\n",
       "  <tbody>\n",
       "    <tr>\n",
       "      <th>0</th>\n",
       "      <td>False</td>\n",
       "      <td>False</td>\n",
       "      <td>False</td>\n",
       "      <td>False</td>\n",
       "      <td>False</td>\n",
       "      <td>False</td>\n",
       "      <td>False</td>\n",
       "      <td>False</td>\n",
       "      <td>False</td>\n",
       "      <td>False</td>\n",
       "      <td>...</td>\n",
       "      <td>False</td>\n",
       "      <td>True</td>\n",
       "      <td>False</td>\n",
       "      <td>False</td>\n",
       "      <td>False</td>\n",
       "      <td>False</td>\n",
       "      <td>False</td>\n",
       "      <td>False</td>\n",
       "      <td>False</td>\n",
       "      <td>False</td>\n",
       "    </tr>\n",
       "    <tr>\n",
       "      <th>1</th>\n",
       "      <td>False</td>\n",
       "      <td>False</td>\n",
       "      <td>False</td>\n",
       "      <td>False</td>\n",
       "      <td>False</td>\n",
       "      <td>False</td>\n",
       "      <td>False</td>\n",
       "      <td>False</td>\n",
       "      <td>False</td>\n",
       "      <td>False</td>\n",
       "      <td>...</td>\n",
       "      <td>False</td>\n",
       "      <td>False</td>\n",
       "      <td>False</td>\n",
       "      <td>False</td>\n",
       "      <td>False</td>\n",
       "      <td>False</td>\n",
       "      <td>False</td>\n",
       "      <td>False</td>\n",
       "      <td>False</td>\n",
       "      <td>False</td>\n",
       "    </tr>\n",
       "    <tr>\n",
       "      <th>2</th>\n",
       "      <td>False</td>\n",
       "      <td>False</td>\n",
       "      <td>False</td>\n",
       "      <td>False</td>\n",
       "      <td>False</td>\n",
       "      <td>False</td>\n",
       "      <td>False</td>\n",
       "      <td>False</td>\n",
       "      <td>False</td>\n",
       "      <td>False</td>\n",
       "      <td>...</td>\n",
       "      <td>False</td>\n",
       "      <td>True</td>\n",
       "      <td>False</td>\n",
       "      <td>False</td>\n",
       "      <td>False</td>\n",
       "      <td>False</td>\n",
       "      <td>False</td>\n",
       "      <td>False</td>\n",
       "      <td>False</td>\n",
       "      <td>False</td>\n",
       "    </tr>\n",
       "    <tr>\n",
       "      <th>3</th>\n",
       "      <td>False</td>\n",
       "      <td>False</td>\n",
       "      <td>False</td>\n",
       "      <td>False</td>\n",
       "      <td>False</td>\n",
       "      <td>False</td>\n",
       "      <td>False</td>\n",
       "      <td>False</td>\n",
       "      <td>False</td>\n",
       "      <td>False</td>\n",
       "      <td>...</td>\n",
       "      <td>False</td>\n",
       "      <td>False</td>\n",
       "      <td>False</td>\n",
       "      <td>False</td>\n",
       "      <td>False</td>\n",
       "      <td>False</td>\n",
       "      <td>False</td>\n",
       "      <td>False</td>\n",
       "      <td>False</td>\n",
       "      <td>False</td>\n",
       "    </tr>\n",
       "    <tr>\n",
       "      <th>4</th>\n",
       "      <td>False</td>\n",
       "      <td>False</td>\n",
       "      <td>False</td>\n",
       "      <td>False</td>\n",
       "      <td>False</td>\n",
       "      <td>False</td>\n",
       "      <td>False</td>\n",
       "      <td>False</td>\n",
       "      <td>False</td>\n",
       "      <td>False</td>\n",
       "      <td>...</td>\n",
       "      <td>False</td>\n",
       "      <td>False</td>\n",
       "      <td>False</td>\n",
       "      <td>False</td>\n",
       "      <td>False</td>\n",
       "      <td>False</td>\n",
       "      <td>False</td>\n",
       "      <td>False</td>\n",
       "      <td>False</td>\n",
       "      <td>False</td>\n",
       "    </tr>\n",
       "  </tbody>\n",
       "</table>\n",
       "<p>5 rows × 62 columns</p>\n",
       "</div>"
      ],
      "text/plain": [
       "   Diagnosis  Age at Diagnosis    Sex  Year at Diagnosis  Month  Onset  \\\n",
       "0      False             False  False              False  False  False   \n",
       "1      False             False  False              False  False  False   \n",
       "2      False             False  False              False  False  False   \n",
       "3      False             False  False              False  False  False   \n",
       "4      False             False  False              False  False  False   \n",
       "\n",
       "   Hallucinations  Rhonchi  Crepitations  Panic attacks  ...  \\\n",
       "0           False    False         False          False  ...   \n",
       "1           False    False         False          False  ...   \n",
       "2           False    False         False          False  ...   \n",
       "3           False    False         False          False  ...   \n",
       "4           False    False         False          False  ...   \n",
       "\n",
       "   Highest Temperature   Labs  Treatment  Treatment.1  Treatment.2  Outcome  \\\n",
       "0                False   True      False        False        False    False   \n",
       "1                False  False      False        False        False    False   \n",
       "2                False   True      False        False        False    False   \n",
       "3                False  False      False        False        False    False   \n",
       "4                False  False      False        False        False    False   \n",
       "\n",
       "   Medical Insuarance  Nationality  County  Residence  \n",
       "0               False        False   False      False  \n",
       "1               False        False   False      False  \n",
       "2               False        False   False      False  \n",
       "3               False        False   False      False  \n",
       "4               False        False   False      False  \n",
       "\n",
       "[5 rows x 62 columns]"
      ]
     },
     "execution_count": 5,
     "metadata": {},
     "output_type": "execute_result"
    }
   ],
   "source": [
    "#find the missing data\n",
    "null_data = df.isnull()\n",
    "null_data.head()"
   ]
  },
  {
   "cell_type": "code",
   "execution_count": 6,
   "id": "5ed96751",
   "metadata": {},
   "outputs": [
    {
     "name": "stdout",
     "output_type": "stream",
     "text": [
      "Diagnosis\n",
      "False    192\n",
      "Name: Diagnosis, dtype: int64\n",
      "\n",
      "Age at Diagnosis\n",
      "False    192\n",
      "Name: Age at Diagnosis, dtype: int64\n",
      "\n",
      "Sex\n",
      "False    192\n",
      "Name: Sex, dtype: int64\n",
      "\n",
      "Year at Diagnosis\n",
      "False    192\n",
      "Name: Year at Diagnosis, dtype: int64\n",
      "\n",
      "Month\n",
      "False    192\n",
      "Name: Month, dtype: int64\n",
      "\n",
      "Onset\n",
      "False    192\n",
      "Name: Onset, dtype: int64\n",
      "\n",
      "Hallucinations\n",
      "False    192\n",
      "Name: Hallucinations, dtype: int64\n",
      "\n",
      "Rhonchi\n",
      "False    192\n",
      "Name: Rhonchi, dtype: int64\n",
      "\n",
      "Crepitations\n",
      "False    192\n",
      "Name: Crepitations, dtype: int64\n",
      "\n",
      "Panic attacks\n",
      "False    192\n",
      "Name: Panic attacks, dtype: int64\n",
      "\n",
      "Cold Extremeties\n",
      "False    192\n",
      "Name: Cold Extremeties, dtype: int64\n",
      "\n",
      "Neck stiffness\n",
      "False    192\n",
      "Name: Neck stiffness, dtype: int64\n",
      "\n",
      "Skin Pustules\n",
      "False    192\n",
      "Name: Skin Pustules, dtype: int64\n",
      "\n",
      "Peripheral Edema\n",
      "False    192\n",
      "Name: Peripheral Edema, dtype: int64\n",
      "\n",
      "Sweating\n",
      "False    192\n",
      "Name: Sweating, dtype: int64\n",
      "\n",
      "Eye Discharge\n",
      "False    192\n",
      "Name: Eye Discharge, dtype: int64\n",
      "\n",
      "Loss of consciousness\n",
      "False    192\n",
      "Name: Loss of consciousness, dtype: int64\n",
      "\n",
      "Chest Indrawing\n",
      "False    192\n",
      "Name: Chest Indrawing, dtype: int64\n",
      "\n",
      "Wheezing\n",
      "False    192\n",
      "Name: Wheezing, dtype: int64\n",
      "\n",
      "Chest Congestion\n",
      "False    192\n",
      "Name: Chest Congestion, dtype: int64\n",
      "\n",
      "Rhinorrhea\n",
      "False    192\n",
      "Name: Rhinorrhea, dtype: int64\n",
      "\n",
      "GBM\n",
      "False    192\n",
      "Name: GBM, dtype: int64\n",
      "\n",
      "Hotness of Body\n",
      "False    192\n",
      "Name: Hotness of Body, dtype: int64\n",
      "\n",
      "Inability to swallow\n",
      "False    192\n",
      "Name: Inability to swallow, dtype: int64\n",
      "\n",
      "Feeding Difficulties\n",
      "False    192\n",
      "Name: Feeding Difficulties, dtype: int64\n",
      "\n",
      "Chills\n",
      "False    192\n",
      "Name: Chills, dtype: int64\n",
      "\n",
      "Headache\n",
      "False    192\n",
      "Name: Headache, dtype: int64\n",
      "\n",
      "Loss of Appetite\n",
      "False    192\n",
      "Name: Loss of Appetite, dtype: int64\n",
      "\n",
      "Cough\n",
      "False    192\n",
      "Name: Cough, dtype: int64\n",
      "\n",
      "Convulsion\n",
      "False    192\n",
      "Name: Convulsion, dtype: int64\n",
      "\n",
      "Abdominal Pain\n",
      "False    192\n",
      "Name: Abdominal Pain, dtype: int64\n",
      "\n",
      "Nausea\n",
      "False    192\n",
      "Name: Nausea, dtype: int64\n",
      "\n",
      "Difficulty in Breathing\n",
      "False    192\n",
      "Name: Difficulty in Breathing, dtype: int64\n",
      "\n",
      "Diarrhoea\n",
      "False    192\n",
      "Name: Diarrhoea, dtype: int64\n",
      "\n",
      "Dehydration\n",
      "False    192\n",
      "Name: Dehydration, dtype: int64\n",
      "\n",
      "Chest wall indrawing\n",
      "False    192\n",
      "Name: Chest wall indrawing, dtype: int64\n",
      "\n",
      "Malnutrition\n",
      "False    192\n",
      "Name: Malnutrition, dtype: int64\n",
      "\n",
      "Pallor\n",
      "False    192\n",
      "Name: Pallor, dtype: int64\n",
      "\n",
      "Irritable\n",
      "False    192\n",
      "Name: Irritable, dtype: int64\n",
      "\n",
      "Melena\n",
      "False    192\n",
      "Name: Melena, dtype: int64\n",
      "\n",
      "Nasal Flaring\n",
      "False    192\n",
      "Name: Nasal Flaring, dtype: int64\n",
      "\n",
      "Vomiting\n",
      "False    192\n",
      "Name: Vomiting, dtype: int64\n",
      "\n",
      "Delayed Milestone\n",
      "False    192\n",
      "Name: Delayed Milestone, dtype: int64\n",
      "\n",
      "Tachypnea\n",
      "False    192\n",
      "Name: Tachypnea, dtype: int64\n",
      "\n",
      "Grunting\n",
      "False    192\n",
      "Name: Grunting, dtype: int64\n",
      "\n",
      "Palpitations\n",
      "False    192\n",
      "Name: Palpitations, dtype: int64\n",
      "\n",
      "Abdominal Distention\n",
      "False    192\n",
      "Name: Abdominal Distention, dtype: int64\n",
      "\n",
      "Jaundice\n",
      "False    192\n",
      "Name: Jaundice, dtype: int64\n",
      "\n",
      "Hydrocephalus\n",
      "False    192\n",
      "Name: Hydrocephalus, dtype: int64\n",
      "\n",
      "Oral sores\n",
      "False    192\n",
      "Name: Oral sores, dtype: int64\n",
      "\n",
      "Sick Looking\n",
      "False    192\n",
      "Name: Sick Looking, dtype: int64\n",
      "\n",
      "Positive RDT\n",
      "False    192\n",
      "Name: Positive RDT, dtype: int64\n",
      "\n",
      "Highest Temperature\n",
      "False    192\n",
      "Name: Highest Temperature, dtype: int64\n",
      "\n",
      "Labs\n",
      "True     113\n",
      "False     79\n",
      "Name: Labs, dtype: int64\n",
      "\n",
      "Treatment\n",
      "False    189\n",
      "True       3\n",
      "Name: Treatment, dtype: int64\n",
      "\n",
      "Treatment.1\n",
      "False    191\n",
      "True       1\n",
      "Name: Treatment.1, dtype: int64\n",
      "\n",
      "Treatment.2\n",
      "False    191\n",
      "True       1\n",
      "Name: Treatment.2, dtype: int64\n",
      "\n",
      "Outcome\n",
      "False    192\n",
      "Name: Outcome, dtype: int64\n",
      "\n",
      "Medical Insuarance\n",
      "False    192\n",
      "Name: Medical Insuarance, dtype: int64\n",
      "\n",
      "Nationality\n",
      "False    192\n",
      "Name: Nationality, dtype: int64\n",
      "\n",
      "County\n",
      "False    192\n",
      "Name: County, dtype: int64\n",
      "\n",
      "Residence\n",
      "False    192\n",
      "Name: Residence, dtype: int64\n",
      "\n"
     ]
    }
   ],
   "source": [
    "for column in null_data.columns.values.tolist():\n",
    "    print(column)\n",
    "    print (null_data[column].value_counts())\n",
    "    print(\"\") "
   ]
  },
  {
   "cell_type": "code",
   "execution_count": 7,
   "id": "413f0a2c",
   "metadata": {},
   "outputs": [
    {
     "data": {
      "text/plain": [
       "<AxesSubplot:>"
      ]
     },
     "execution_count": 7,
     "metadata": {},
     "output_type": "execute_result"
    },
    {
     "data": {
      "image/png": "[encoded data removed]",
      "text/plain": [
       "<Figure size 432x288 with 2 Axes>"
      ]
     },
     "metadata": {
      "needs_background": "light"
     },
     "output_type": "display_data"
    }
   ],
   "source": [
    "sns.heatmap(df.isnull())"
   ]
  },
  {
   "cell_type": "code",
   "execution_count": 8,
   "id": "4a8e61ac",
   "metadata": {},
   "outputs": [],
   "source": [
    "df.drop([\"Labs\",\"Treatment.1\"], axis =1, inplace=True)"
   ]
  },
  {
   "cell_type": "code",
   "execution_count": 9,
   "id": "c096b0d6",
   "metadata": {},
   "outputs": [
    {
     "data": {
      "text/plain": [
       "Diagnosis                  0\n",
       "Age at Diagnosis           0\n",
       "Sex                        0\n",
       "Year at Diagnosis          0\n",
       "Month                      0\n",
       "Onset                      0\n",
       "Hallucinations             0\n",
       "Rhonchi                    0\n",
       "Crepitations               0\n",
       "Panic attacks              0\n",
       "Cold Extremeties           0\n",
       "Neck stiffness             0\n",
       "Skin Pustules              0\n",
       "Peripheral Edema           0\n",
       "Sweating                   0\n",
       "Eye Discharge              0\n",
       "Loss of consciousness      0\n",
       "Chest Indrawing            0\n",
       "Wheezing                   0\n",
       "Chest Congestion           0\n",
       "Rhinorrhea                 0\n",
       "GBM                        0\n",
       "Hotness of Body            0\n",
       "Inability to swallow       0\n",
       "Feeding Difficulties       0\n",
       "Chills                     0\n",
       "Headache                   0\n",
       "Loss of Appetite           0\n",
       "Cough                      0\n",
       "Convulsion                 0\n",
       "Abdominal Pain             0\n",
       "Nausea                     0\n",
       "Difficulty in Breathing    0\n",
       "Diarrhoea                  0\n",
       "Dehydration                0\n",
       "Chest wall indrawing       0\n",
       "Malnutrition               0\n",
       "Pallor                     0\n",
       "Irritable                  0\n",
       "Melena                     0\n",
       "Nasal Flaring              0\n",
       "Vomiting                   0\n",
       "Delayed Milestone          0\n",
       "Tachypnea                  0\n",
       "Grunting                   0\n",
       "Palpitations               0\n",
       "Abdominal Distention       0\n",
       "Jaundice                   0\n",
       "Hydrocephalus              0\n",
       "Oral sores                 0\n",
       "Sick Looking               0\n",
       "Positive RDT               0\n",
       "Highest Temperature        0\n",
       "Treatment                  0\n",
       "Treatment.2                0\n",
       "Outcome                    0\n",
       "Medical Insuarance         0\n",
       "Nationality                0\n",
       "County                     0\n",
       "Residence                  0\n",
       "dtype: int64"
      ]
     },
     "execution_count": 9,
     "metadata": {},
     "output_type": "execute_result"
    }
   ],
   "source": [
    "df = df.dropna()\n",
    "df.isnull().sum()"
   ]
  },
  {
   "cell_type": "code",
   "execution_count": 10,
   "id": "1473ed52",
   "metadata": {},
   "outputs": [
    {
     "data": {
      "text/plain": [
       "<AxesSubplot:>"
      ]
     },
     "execution_count": 10,
     "metadata": {},
     "output_type": "execute_result"
    },
    {
     "data": {
      "image/png": "[encoded data removed]",
      "text/plain": [
       "<Figure size 432x288 with 2 Axes>"
      ]
     },
     "metadata": {
      "needs_background": "light"
     },
     "output_type": "display_data"
    }
   ],
   "source": [
    "sns.heatmap(df.isnull())"
   ]
  },
  {
   "cell_type": "code",
   "execution_count": 11,
   "id": "8159b3fd",
   "metadata": {},
   "outputs": [
    {
     "data": {
      "image/png": "[encoded data removed]",
      "text/plain": [
       "<Figure size 864x504 with 1 Axes>"
      ]
     },
     "metadata": {
      "needs_background": "light"
     },
     "output_type": "display_data"
    }
   ],
   "source": [
    "fig, ax = plt.subplots(1,1, figsize=(12, 7))\n",
    "df.boxplot('Age at Diagnosis', 'Highest Temperature', ax=ax)\n",
    "plt.suptitle('Age v Temperature')\n",
    "plt.title('')\n",
    "plt.ylabel(' Temperature')\n",
    "plt.xticks(rotation=90)\n",
    "plt.show()"
   ]
  },
  {
   "cell_type": "code",
   "execution_count": 12,
   "id": "6104a504",
   "metadata": {},
   "outputs": [
    {
     "data": {
      "text/plain": [
       "0                                          [Sepsis]\n",
       "1                                   [Panic Attacks]\n",
       "2                                       [Pneumonia]\n",
       "3                                   [Hydrocephalus]\n",
       "4                                          [Sepsis]\n",
       "                           ...                     \n",
       "187                          [Malaria, Convulsions]\n",
       "188            [Malaria, Dehydration, Hypoglycemia]\n",
       "189    [Malaria, Upper Respiratory Tract Infection]\n",
       "190                        [Pneumonia, Dehydration]\n",
       "191                            [Malaria, Pneumonia]\n",
       "Name: diagnosis, Length: 189, dtype: object"
      ]
     },
     "execution_count": 12,
     "metadata": {},
     "output_type": "execute_result"
    }
   ],
   "source": [
    "# Use str.split and str.join and astype\n",
    "df['diagnosis'] = df['Diagnosis'].str.split(',')\n",
    "\n",
    "df['diagnosis']"
   ]
  },
  {
   "cell_type": "code",
   "execution_count": 13,
   "id": "c96ce285",
   "metadata": {},
   "outputs": [],
   "source": [
    "df.drop([\"Diagnosis\",\"Treatment.2\"], axis =1, inplace= True)"
   ]
  },
  {
   "cell_type": "code",
   "execution_count": 14,
   "id": "7459a083",
   "metadata": {},
   "outputs": [
    {
     "data": {
      "text/plain": [
       "list"
      ]
     },
     "execution_count": 14,
     "metadata": {},
     "output_type": "execute_result"
    }
   ],
   "source": [
    "# get all genre tags in a list\n",
    "type(df['diagnosis'][3])"
   ]
  },
  {
   "cell_type": "code",
   "execution_count": 15,
   "id": "55ad1597",
   "metadata": {},
   "outputs": [],
   "source": [
    "# an empty list\n",
    "diseases = [] \n",
    "\n",
    "# extract genres\n",
    "for i in df['diagnosis']: \n",
    "  diseases.append(i) "
   ]
  },
  {
   "cell_type": "code",
   "execution_count": 16,
   "id": "346b10fd",
   "metadata": {},
   "outputs": [
    {
     "data": {
      "text/plain": [
       "22"
      ]
     },
     "execution_count": 16,
     "metadata": {},
     "output_type": "execute_result"
    }
   ],
   "source": [
    "all = sum(diseases,[])\n",
    "len(set(all))"
   ]
  },
  {
   "cell_type": "code",
   "execution_count": 17,
   "id": "6240ce7e",
   "metadata": {},
   "outputs": [
    {
     "name": "stdout",
     "output_type": "stream",
     "text": [
      "Requirement already satisfied: nltk in ./opt/anaconda3/lib/python3.9/site-packages (3.6.6)\n",
      "Requirement already satisfied: tqdm in ./opt/anaconda3/lib/python3.9/site-packages (from nltk) (4.62.3)\n",
      "Requirement already satisfied: click in ./opt/anaconda3/lib/python3.9/site-packages (from nltk) (8.0.3)\n",
      "Requirement already satisfied: joblib in ./opt/anaconda3/lib/python3.9/site-packages (from nltk) (1.1.0)\n",
      "Requirement already satisfied: regex>=2021.8.3 in ./opt/anaconda3/lib/python3.9/site-packages (from nltk) (2021.8.3)\n",
      "Note: you may need to restart the kernel to use updated packages.\n"
     ]
    }
   ],
   "source": [
    "%pip install -U nltk"
   ]
  },
  {
   "cell_type": "code",
   "execution_count": 18,
   "id": "6439a2f1",
   "metadata": {},
   "outputs": [],
   "source": [
    "import nltk\n",
    "\n",
    "all_diseases= nltk.FreqDist(all) \n",
    "\n",
    "# create dataframe\n",
    "all_diseases_df = pd.DataFrame({'Disease': list(all_diseases.keys()), \n",
    "                              'Count': list(all_diseases.values())})"
   ]
  },
  {
   "cell_type": "code",
   "execution_count": 19,
   "id": "5c06aeea",
   "metadata": {},
   "outputs": [
    {
     "data": {
      "image/png": "[encoded data removed]",
      "text/plain": [
       "<Figure size 864x1080 with 1 Axes>"
      ]
     },
     "metadata": {
      "needs_background": "light"
     },
     "output_type": "display_data"
    }
   ],
   "source": [
    "g = all_diseases_df.nlargest(columns=\"Count\", n = 50) \n",
    "plt.figure(figsize=(12,15)) \n",
    "ax = sns.barplot(data=g, x= \"Count\", y = \"Disease\") \n",
    "ax.set(ylabel = 'Count') \n",
    "plt.show()"
   ]
  },
  {
   "cell_type": "code",
   "execution_count": 20,
   "id": "7a422459",
   "metadata": {},
   "outputs": [],
   "source": [
    "import re\n",
    "\n",
    "# function for text cleaning \n",
    "def clean_text(text):\n",
    "    # remove backslash-apostrophe \n",
    "    text = re.sub(\"%\", \"\", text) \n",
    "    # remove everything except alphabets \n",
    "    text = re.sub(\"[^a-zA-Z]\",\" \",text) \n",
    "    # remove whitespaces \n",
    "    text = ','.join(text.split()) \n",
    "    # convert text to lowercase \n",
    "    text = text.lower() \n",
    "    \n",
    "    return text"
   ]
  },
  {
   "cell_type": "code",
   "execution_count": 21,
   "id": "aa16b246",
   "metadata": {},
   "outputs": [],
   "source": [
    "df['treatment'] = df['Treatment'].apply(lambda x: clean_text(x))\n",
    "df['treatment'] = df['Treatment'].str.split(',')"
   ]
  },
  {
   "cell_type": "code",
   "execution_count": 22,
   "id": "26020e23",
   "metadata": {},
   "outputs": [],
   "source": [
    "df.drop([\"Rhinorrhea\",\"Hallucinations\",\"Oral sores\",\"Rhonchi\",\"Panic attacks\" ,\"Cold Extremeties\",\"Neck stiffness\",\"Skin Pustules\",\"Peripheral Edema\",\"Sweating\",\"Loss of consciousness\",\"Nausea\",\"Inability to swallow\",\"Eye Discharge\", \"Sweating\",\"Peripheral Edema\",\"Skin Pustules\",\"Jaundice\",\"Palpitations\",\"Grunting\",\"Melena\",\"Pallor\",\"Malnutrition\",\"Abdominal Pain\",\"Loss of Appetite\",\"Chills\",\"Feeding Difficulties\", \"Wheezing\",\"Crepitations\",\"Chest Indrawing\"], axis=1, inplace=True)"
   ]
  },
  {
   "cell_type": "code",
   "execution_count": 23,
   "id": "05ee2105",
   "metadata": {},
   "outputs": [],
   "source": [
    "df.drop([\"Medical Insuarance\", \"Nationality\",\"Residence\",\"Nationality\"], axis=1, inplace=True)"
   ]
  },
  {
   "cell_type": "code",
   "execution_count": 24,
   "id": "c574da87",
   "metadata": {},
   "outputs": [],
   "source": [
    "df.drop([\"County\",\"Hydrocephalus\",\"Chest Congestion\",\"Headache\",\"Abdominal Distention\"], axis=1, inplace=True)"
   ]
  },
  {
   "cell_type": "code",
   "execution_count": 25,
   "id": "3b6bb96b",
   "metadata": {},
   "outputs": [],
   "source": [
    "df.drop([\"Convulsion\", \"Delayed Milestone\",\"Tachypnea\"], axis=1, inplace=True)"
   ]
  },
  {
   "cell_type": "code",
   "execution_count": 26,
   "id": "871dfffd",
   "metadata": {},
   "outputs": [],
   "source": [
    "df.drop([\"GBM\",\"Nasal Flaring\", \"Irritable\",\"Cough\",\"Difficulty in Breathing\",\"Diarrhoea\",\"Positive RDT\"], axis=1, inplace=True)"
   ]
  },
  {
   "cell_type": "code",
   "execution_count": 27,
   "id": "c8e11c55",
   "metadata": {},
   "outputs": [],
   "source": [
    "df.drop(\"Year at Diagnosis\", axis =1, inplace=True)"
   ]
  },
  {
   "cell_type": "code",
   "execution_count": 28,
   "id": "b8e58e43",
   "metadata": {},
   "outputs": [
    {
     "data": {
      "text/plain": [
       "0      September\n",
       "1            May\n",
       "2        January\n",
       "3          April\n",
       "4            May\n",
       "         ...    \n",
       "187      October\n",
       "188    September\n",
       "189      October\n",
       "190      October\n",
       "191      October\n",
       "Name: Month, Length: 189, dtype: object"
      ]
     },
     "execution_count": 28,
     "metadata": {},
     "output_type": "execute_result"
    }
   ],
   "source": [
    "df['Month']"
   ]
  },
  {
   "cell_type": "code",
   "execution_count": 29,
   "id": "e8e62436",
   "metadata": {},
   "outputs": [
    {
     "data": {
      "text/plain": [
       "array([11,  8,  4,  0,  9,  3,  6,  1,  7, 10,  5,  2])"
      ]
     },
     "execution_count": 29,
     "metadata": {},
     "output_type": "execute_result"
    }
   ],
   "source": [
    "from sklearn.preprocessing import LabelEncoder\n",
    "le_month = LabelEncoder()\n",
    "df['Month'] = le_month.fit_transform(df['Month'])\n",
    "df[\"Month\"].unique()"
   ]
  },
  {
   "cell_type": "code",
   "execution_count": 30,
   "id": "32352829",
   "metadata": {},
   "outputs": [
    {
     "data": {
      "text/plain": [
       "array([1, 0])"
      ]
     },
     "execution_count": 30,
     "metadata": {},
     "output_type": "execute_result"
    }
   ],
   "source": [
    "le_sex = LabelEncoder()\n",
    "df['Sex'] = le_sex.fit_transform(df['Sex'])\n",
    "df[\"Sex\"].unique()"
   ]
  },
  {
   "cell_type": "code",
   "execution_count": 31,
   "id": "e8e494d4",
   "metadata": {},
   "outputs": [
    {
     "data": {
      "text/plain": [
       "array([0, 1])"
      ]
     },
     "execution_count": 31,
     "metadata": {},
     "output_type": "execute_result"
    }
   ],
   "source": [
    "le_HOB = LabelEncoder()\n",
    "df['Hotness of Body'] = le_HOB.fit_transform(df['Hotness of Body'])\n",
    "df[\"Hotness of Body\"].unique()"
   ]
  },
  {
   "cell_type": "code",
   "execution_count": 32,
   "id": "58f5956a",
   "metadata": {},
   "outputs": [
    {
     "data": {
      "text/plain": [
       "array([1, 0])"
      ]
     },
     "execution_count": 32,
     "metadata": {},
     "output_type": "execute_result"
    }
   ],
   "source": [
    "le_Deh = LabelEncoder()\n",
    "df['Dehydration'] = le_Deh.fit_transform(df['Dehydration'])\n",
    "df[\"Sex\"].unique()"
   ]
  },
  {
   "cell_type": "code",
   "execution_count": 33,
   "id": "96cdec2e",
   "metadata": {},
   "outputs": [
    {
     "data": {
      "text/plain": [
       "array([0, 1])"
      ]
     },
     "execution_count": 33,
     "metadata": {},
     "output_type": "execute_result"
    }
   ],
   "source": [
    "le_CWI = LabelEncoder()\n",
    "df['Chest wall indrawing'] = le_CWI.fit_transform(df['Chest wall indrawing'])\n",
    "df[\"Chest wall indrawing\"].unique()"
   ]
  },
  {
   "cell_type": "code",
   "execution_count": 34,
   "id": "6cd0f89e",
   "metadata": {},
   "outputs": [
    {
     "data": {
      "text/plain": [
       "array([0, 1])"
      ]
     },
     "execution_count": 34,
     "metadata": {},
     "output_type": "execute_result"
    }
   ],
   "source": [
    "le_vomit = LabelEncoder()\n",
    "df['Vomiting'] = le_vomit.fit_transform(df['Vomiting'])\n",
    "df[\"Vomiting\"].unique()"
   ]
  },
  {
   "cell_type": "code",
   "execution_count": 35,
   "id": "7805e4e2",
   "metadata": {},
   "outputs": [
    {
     "data": {
      "text/plain": [
       "array([1, 0])"
      ]
     },
     "execution_count": 35,
     "metadata": {},
     "output_type": "execute_result"
    }
   ],
   "source": [
    "le_Sick = LabelEncoder()\n",
    "df['Sick Looking'] = le_Sick.fit_transform(df['Sick Looking'])\n",
    "df[\"Sick Looking\"].unique()"
   ]
  },
  {
   "cell_type": "code",
   "execution_count": 36,
   "id": "4968b15f",
   "metadata": {},
   "outputs": [
    {
     "data": {
      "text/plain": [
       "84"
      ]
     },
     "execution_count": 36,
     "metadata": {},
     "output_type": "execute_result"
    }
   ],
   "source": [
    "# an empty list\n",
    "treatment = [] \n",
    "\n",
    "# extract genres\n",
    "for i in df['treatment']: \n",
    "  treatment.append(i) \n",
    "\n",
    "all_meds = sum(treatment,[])\n",
    "len(set(all_meds))"
   ]
  },
  {
   "cell_type": "code",
   "execution_count": 37,
   "id": "1140691d",
   "metadata": {},
   "outputs": [],
   "source": [
    "\n",
    "all_treatment= nltk.FreqDist(all_meds) \n",
    "\n",
    "# create dataframe\n",
    "all_treatment_df = pd.DataFrame({'treatment': list(all_treatment.keys()), \n",
    "                              'count': list(all_treatment.values())})"
   ]
  },
  {
   "cell_type": "code",
   "execution_count": 38,
   "id": "c2512118",
   "metadata": {},
   "outputs": [
    {
     "data": {
      "image/png": "[encoded data removed]",
      "text/plain": [
       "<Figure size 864x1080 with 1 Axes>"
      ]
     },
     "metadata": {
      "needs_background": "light"
     },
     "output_type": "display_data"
    }
   ],
   "source": [
    "t = all_treatment_df.nlargest(columns=\"count\", n = 50) \n",
    "plt.figure(figsize=(12,15)) \n",
    "ax = sns.barplot(data=t, x= \"count\", y = \"treatment\") \n",
    "ax.set(ylabel = 'treatment') \n",
    "plt.show()"
   ]
  },
  {
   "cell_type": "code",
   "execution_count": 39,
   "id": "fdc6fee8",
   "metadata": {},
   "outputs": [],
   "source": [
    "df.drop(\"Treatment\", axis =1, inplace= True)"
   ]
  },
  {
   "cell_type": "code",
   "execution_count": 40,
   "id": "9559c6ae",
   "metadata": {},
   "outputs": [],
   "source": [
    "df.drop([\"Outcome\",\"treatment\"], axis =1, inplace= True)"
   ]
  },
  {
   "cell_type": "code",
   "execution_count": 41,
   "id": "03a2c691",
   "metadata": {},
   "outputs": [
    {
     "data": {
      "text/plain": [
       "(189, 22)"
      ]
     },
     "execution_count": 41,
     "metadata": {},
     "output_type": "execute_result"
    }
   ],
   "source": [
    "from sklearn.preprocessing import MultiLabelBinarizer\n",
    "from numpy import array\n",
    "\n",
    "multilabel_binarizer = MultiLabelBinarizer()\n",
    "answer = multilabel_binarizer.fit(df['diagnosis'])\n",
    "\n",
    "# transform target variable\n",
    "y = multilabel_binarizer.transform(df['diagnosis'])\n",
    "y.shape"
   ]
  },
  {
   "cell_type": "code",
   "execution_count": 42,
   "id": "9a4fa3fb",
   "metadata": {},
   "outputs": [],
   "source": [
    "X = df.drop(\"diagnosis\", axis=1)"
   ]
  },
  {
   "cell_type": "code",
   "execution_count": 43,
   "id": "ba03c6de",
   "metadata": {},
   "outputs": [
    {
     "data": {
      "text/html": [
       "<div>\n",
       "<style scoped>\n",
       "    .dataframe tbody tr th:only-of-type {\n",
       "        vertical-align: middle;\n",
       "    }\n",
       "\n",
       "    .dataframe tbody tr th {\n",
       "        vertical-align: top;\n",
       "    }\n",
       "\n",
       "    .dataframe thead th {\n",
       "        text-align: right;\n",
       "    }\n",
       "</style>\n",
       "<table border=\"1\" class=\"dataframe\">\n",
       "  <thead>\n",
       "    <tr style=\"text-align: right;\">\n",
       "      <th></th>\n",
       "      <th>Age at Diagnosis</th>\n",
       "      <th>Sex</th>\n",
       "      <th>Month</th>\n",
       "      <th>Onset</th>\n",
       "      <th>Hotness of Body</th>\n",
       "      <th>Dehydration</th>\n",
       "      <th>Chest wall indrawing</th>\n",
       "      <th>Vomiting</th>\n",
       "      <th>Sick Looking</th>\n",
       "      <th>Highest Temperature</th>\n",
       "      <th>diagnosis</th>\n",
       "    </tr>\n",
       "  </thead>\n",
       "  <tbody>\n",
       "    <tr>\n",
       "      <th>0</th>\n",
       "      <td>1</td>\n",
       "      <td>1</td>\n",
       "      <td>11</td>\n",
       "      <td>7</td>\n",
       "      <td>0</td>\n",
       "      <td>0</td>\n",
       "      <td>0</td>\n",
       "      <td>0</td>\n",
       "      <td>1</td>\n",
       "      <td>36.7</td>\n",
       "      <td>[Sepsis]</td>\n",
       "    </tr>\n",
       "    <tr>\n",
       "      <th>1</th>\n",
       "      <td>1</td>\n",
       "      <td>1</td>\n",
       "      <td>8</td>\n",
       "      <td>1</td>\n",
       "      <td>1</td>\n",
       "      <td>0</td>\n",
       "      <td>0</td>\n",
       "      <td>0</td>\n",
       "      <td>1</td>\n",
       "      <td>38.9</td>\n",
       "      <td>[Panic Attacks]</td>\n",
       "    </tr>\n",
       "    <tr>\n",
       "      <th>2</th>\n",
       "      <td>1</td>\n",
       "      <td>1</td>\n",
       "      <td>4</td>\n",
       "      <td>2</td>\n",
       "      <td>1</td>\n",
       "      <td>0</td>\n",
       "      <td>1</td>\n",
       "      <td>1</td>\n",
       "      <td>1</td>\n",
       "      <td>36.9</td>\n",
       "      <td>[Pneumonia]</td>\n",
       "    </tr>\n",
       "    <tr>\n",
       "      <th>3</th>\n",
       "      <td>2</td>\n",
       "      <td>1</td>\n",
       "      <td>0</td>\n",
       "      <td>3</td>\n",
       "      <td>1</td>\n",
       "      <td>0</td>\n",
       "      <td>0</td>\n",
       "      <td>1</td>\n",
       "      <td>1</td>\n",
       "      <td>38.8</td>\n",
       "      <td>[Hydrocephalus]</td>\n",
       "    </tr>\n",
       "    <tr>\n",
       "      <th>4</th>\n",
       "      <td>5</td>\n",
       "      <td>0</td>\n",
       "      <td>8</td>\n",
       "      <td>3</td>\n",
       "      <td>1</td>\n",
       "      <td>0</td>\n",
       "      <td>0</td>\n",
       "      <td>0</td>\n",
       "      <td>1</td>\n",
       "      <td>39.5</td>\n",
       "      <td>[Sepsis]</td>\n",
       "    </tr>\n",
       "  </tbody>\n",
       "</table>\n",
       "</div>"
      ],
      "text/plain": [
       "   Age at Diagnosis  Sex  Month  Onset  Hotness of Body  Dehydration  \\\n",
       "0                 1    1     11      7                0            0   \n",
       "1                 1    1      8      1                1            0   \n",
       "2                 1    1      4      2                1            0   \n",
       "3                 2    1      0      3                1            0   \n",
       "4                 5    0      8      3                1            0   \n",
       "\n",
       "   Chest wall indrawing  Vomiting  Sick Looking  Highest Temperature  \\\n",
       "0                     0         0             1                 36.7   \n",
       "1                     0         0             1                 38.9   \n",
       "2                     1         1             1                 36.9   \n",
       "3                     0         1             1                 38.8   \n",
       "4                     0         0             1                 39.5   \n",
       "\n",
       "         diagnosis  \n",
       "0         [Sepsis]  \n",
       "1  [Panic Attacks]  \n",
       "2      [Pneumonia]  \n",
       "3  [Hydrocephalus]  \n",
       "4         [Sepsis]  "
      ]
     },
     "execution_count": 43,
     "metadata": {},
     "output_type": "execute_result"
    }
   ],
   "source": [
    "df.head()"
   ]
  },
  {
   "cell_type": "code",
   "execution_count": 44,
   "id": "bb0ddf28",
   "metadata": {},
   "outputs": [],
   "source": [
    "#We will be using train/test split on our decision tree\n",
    "\n",
    "from sklearn.model_selection import train_test_split\n",
    "X_trainset, X_testset, y_trainset, y_testset = train_test_split(X, y, test_size=0.25, random_state=2)"
   ]
  },
  {
   "cell_type": "code",
   "execution_count": 45,
   "id": "e8f15dd1",
   "metadata": {},
   "outputs": [
    {
     "data": {
      "text/plain": [
       "LinearRegression()"
      ]
     },
     "execution_count": 45,
     "metadata": {},
     "output_type": "execute_result"
    }
   ],
   "source": [
    "from sklearn.linear_model import LinearRegression\n",
    "linear_reg = LinearRegression()\n",
    "linear_reg.fit(X_trainset,y_trainset)"
   ]
  },
  {
   "cell_type": "code",
   "execution_count": 46,
   "id": "683568a2",
   "metadata": {},
   "outputs": [],
   "source": [
    "y_predd = linear_reg.predict(X_testset)"
   ]
  },
  {
   "cell_type": "code",
   "execution_count": 47,
   "id": "ec9b50fb",
   "metadata": {},
   "outputs": [],
   "source": [
    "from sklearn.metrics import mean_squared_error, mean_absolute_error\n",
    "import numpy as np\n",
    "error = np.sqrt(mean_squared_error(y_testset, y_predd))"
   ]
  },
  {
   "cell_type": "code",
   "execution_count": 48,
   "id": "ff253679",
   "metadata": {},
   "outputs": [
    {
     "data": {
      "text/plain": [
       "DecisionTreeClassifier(criterion='entropy', max_depth=4)"
      ]
     },
     "execution_count": 48,
     "metadata": {},
     "output_type": "execute_result"
    }
   ],
   "source": [
    "from sklearn.tree import DecisionTreeClassifier\n",
    "\n",
    "RDTTree = DecisionTreeClassifier(criterion=\"entropy\", max_depth = 4)\n",
    "RDTTree.fit(X_trainset,y_trainset)"
   ]
  },
  {
   "cell_type": "code",
   "execution_count": 49,
   "id": "517562e0",
   "metadata": {},
   "outputs": [
    {
     "name": "stdout",
     "output_type": "stream",
     "text": [
      "[[0 0 0 0 0 1 0 0 0 0 0 0 1 0 0 0 0 0 0 0 0 0]\n",
      " [0 0 0 0 0 0 0 0 0 0 0 0 0 0 0 0 0 0 0 0 0 0]\n",
      " [0 0 0 0 0 0 0 0 0 0 0 0 1 0 0 0 0 0 0 0 0 0]\n",
      " [0 0 0 0 0 0 0 0 0 0 0 0 0 0 0 0 0 0 0 0 0 0]\n",
      " [0 0 0 0 0 0 0 0 0 0 0 0 0 0 0 1 0 0 0 0 0 0]\n",
      " [0 0 0 0 0 0 0 0 0 0 0 0 0 0 0 1 0 0 0 0 0 0]]\n",
      "[[0 0 0 0 0 0 0 0 0 0 0 0 0 0 0 0 0 0 0 0 1 0]\n",
      " [0 0 0 0 0 0 0 0 0 0 0 0 0 0 0 1 0 0 0 0 0 0]\n",
      " [0 0 0 0 0 0 0 0 0 1 0 0 1 0 0 0 0 0 0 0 0 0]\n",
      " [0 0 0 0 0 0 0 0 0 0 0 0 0 0 0 1 0 0 0 0 0 0]\n",
      " [0 0 0 0 0 0 0 0 0 0 0 0 0 0 0 1 0 0 0 0 0 0]\n",
      " [0 0 0 0 0 0 0 0 0 0 0 0 0 0 0 1 0 0 0 0 0 0]]\n"
     ]
    }
   ],
   "source": [
    "#After fitting the model we try to predict values from the test set\n",
    "predTree = RDTTree.predict(X_testset)\n",
    "print (predTree [0:6])\n",
    "print (y_testset [0:6])"
   ]
  },
  {
   "cell_type": "code",
   "execution_count": 50,
   "id": "17696765",
   "metadata": {},
   "outputs": [
    {
     "name": "stdout",
     "output_type": "stream",
     "text": [
      "DecisionTrees's Accuracy: 0.23\n"
     ]
    }
   ],
   "source": [
    "from sklearn import metrics\n",
    "test_score = metrics.accuracy_score(y_testset, predTree)\n",
    "\n",
    "print(f\"DecisionTrees's Accuracy: {test_score:.2f}\") "
   ]
  },
  {
   "cell_type": "code",
   "execution_count": 51,
   "id": "2857a26f",
   "metadata": {},
   "outputs": [
    {
     "data": {
      "text/plain": [
       "RandomForestRegressor(random_state=0)"
      ]
     },
     "execution_count": 51,
     "metadata": {},
     "output_type": "execute_result"
    }
   ],
   "source": [
    "from sklearn.ensemble import RandomForestRegressor\n",
    "random_forest_reg = RandomForestRegressor(random_state=0)\n",
    "random_forest_reg.fit(X_trainset,y_trainset)"
   ]
  },
  {
   "cell_type": "code",
   "execution_count": 52,
   "id": "5395d0d4",
   "metadata": {},
   "outputs": [
    {
     "data": {
      "text/plain": [
       "array([[0.  , 0.  , 0.  , ..., 0.  , 0.  , 0.  ],\n",
       "       [0.11, 0.  , 0.  , ..., 0.  , 0.  , 0.01],\n",
       "       [0.  , 0.  , 0.  , ..., 0.  , 0.  , 0.  ],\n",
       "       ...,\n",
       "       [0.  , 0.  , 0.  , ..., 0.01, 0.02, 0.  ],\n",
       "       [0.02, 0.  , 0.  , ..., 0.  , 0.  , 0.03],\n",
       "       [0.02, 0.  , 0.  , ..., 0.02, 0.03, 0.  ]])"
      ]
     },
     "execution_count": 52,
     "metadata": {},
     "output_type": "execute_result"
    }
   ],
   "source": [
    "y_predict = random_forest_reg.predict(X_testset)\n",
    "y_predict"
   ]
  },
  {
   "cell_type": "code",
   "execution_count": 53,
   "id": "1620b98e",
   "metadata": {},
   "outputs": [
    {
     "name": "stdout",
     "output_type": "stream",
     "text": [
      "0.2288233654497669\n"
     ]
    }
   ],
   "source": [
    "import numpy as np\n",
    "\n",
    "error = np.sqrt(mean_squared_error(y_testset, y_predict))\n",
    "print(format(error))"
   ]
  },
  {
   "cell_type": "code",
   "execution_count": 54,
   "id": "fb2733ab",
   "metadata": {},
   "outputs": [],
   "source": [
    "X = df.drop(\"diagnosis\", axis=1)\n"
   ]
  },
  {
   "cell_type": "code",
   "execution_count": 55,
   "id": "3e4ccab6",
   "metadata": {},
   "outputs": [
    {
     "data": {
      "text/plain": [
       "GridSearchCV(estimator=DecisionTreeClassifier(random_state=0),\n",
       "             param_grid={'max_depth': [None, 2, 4, 6, 8, 10, 12]},\n",
       "             scoring='neg_mean_squared_error')"
      ]
     },
     "execution_count": 55,
     "metadata": {},
     "output_type": "execute_result"
    }
   ],
   "source": [
    "from sklearn.model_selection import GridSearchCV\n",
    "\n",
    "max_depth = [None, 2,4,6,8,10,12]\n",
    "parameters = {\"max_depth\": max_depth}\n",
    "\n",
    "regressor = DecisionTreeClassifier(random_state=0)\n",
    "gs = GridSearchCV(regressor, parameters, scoring='neg_mean_squared_error')\n",
    "gs.fit(X_trainset,y_trainset)"
   ]
  },
  {
   "cell_type": "code",
   "execution_count": 56,
   "id": "58c7aa0f",
   "metadata": {},
   "outputs": [
    {
     "data": {
      "text/plain": [
       "0.24999999999999997"
      ]
     },
     "execution_count": 56,
     "metadata": {},
     "output_type": "execute_result"
    }
   ],
   "source": [
    "regressor = gs.best_estimator_\n",
    "\n",
    "regressor.fit(X,y)\n",
    "y_pred = regressor.predict(X_testset)\n",
    "error = np.sqrt(mean_squared_error(y_testset, y_pred))\n",
    "error"
   ]
  },
  {
   "cell_type": "code",
   "execution_count": 57,
   "id": "a4638091",
   "metadata": {},
   "outputs": [
    {
     "data": {
      "text/plain": [
       "array([['3', 'M', 'March', '5', 'Yes', 'Yes', 'No', 'No', 'Yes', '37.9']],\n",
       "      dtype='<U32')"
      ]
     },
     "execution_count": 57,
     "metadata": {},
     "output_type": "execute_result"
    }
   ],
   "source": [
    "x = np.array([[3,\"M\",\"March\", 5,\"Yes\",\"Yes\",\"No\",\"No\",\"Yes\",37.9]])\n",
    "x"
   ]
  },
  {
   "cell_type": "code",
   "execution_count": 58,
   "id": "dbe7c6ed",
   "metadata": {},
   "outputs": [
    {
     "data": {
      "text/plain": [
       "array([[ 3. ,  1. ,  7. ,  5. ,  1. ,  1. ,  0. ,  0. ,  1. , 37.9]])"
      ]
     },
     "execution_count": 58,
     "metadata": {},
     "output_type": "execute_result"
    }
   ],
   "source": [
    "x[:, 1] = le_sex.transform(x[:,1])\n",
    "x[:, 2] = le_month.transform(x[:,2])\n",
    "x[:, 4] = le_HOB.transform(x[:,4])\n",
    "x[:, 5] = le_Deh.transform(x[:,5])\n",
    "x[:, 6] = le_CWI.transform(x[:,6])\n",
    "x[:, 7] = le_vomit.transform(x[:,7])\n",
    "x[:, 8] = le_Sick.transform(x[:,8])\n",
    "x = x.astype(float)\n",
    "x"
   ]
  },
  {
   "cell_type": "code",
   "execution_count": 59,
   "id": "17dc8123",
   "metadata": {},
   "outputs": [
    {
     "data": {
      "text/plain": [
       "array([[ 0.07030245,  0.01877351,  0.01176891,  0.02055228,  0.00568903,\n",
       "         0.16970654,  0.        ,  0.        ,  0.        ,  0.21347478,\n",
       "         0.        ,  0.02264898,  0.55734227,  0.09314431,  0.01706794,\n",
       "         0.10146445, -0.00129411,  0.        ,  0.08922669, -0.00129411,\n",
       "        -0.03003475,  0.01961941]])"
      ]
     },
     "execution_count": 59,
     "metadata": {},
     "output_type": "execute_result"
    }
   ],
   "source": [
    "y_pred = linear_reg.predict(x)\n",
    "y_pred"
   ]
  },
  {
   "cell_type": "code",
   "execution_count": 60,
   "id": "0d979919",
   "metadata": {},
   "outputs": [],
   "source": [
    "import pickle"
   ]
  },
  {
   "cell_type": "code",
   "execution_count": 61,
   "id": "35e5b387",
   "metadata": {},
   "outputs": [],
   "source": [
    "data = {\"model\": RDTTree, \"le_sex\": le_sex, \"le_month\": le_month,\"le_HOB\": le_HOB, \"le_Deh\":le_Deh, \"le_CWI\": le_CWI, \"le_vomit\":le_vomit, \"le_Sick\":le_Sick, \"binarizer\":answer}\n",
    "with open('saved_steps.pkl', 'wb') as file:\n",
    "    pickle.dump(data, file)"
   ]
  },
  {
   "cell_type": "code",
   "execution_count": 62,
   "id": "0716265d",
   "metadata": {},
   "outputs": [],
   "source": [
    "with open('saved_steps.pkl', 'rb') as file:\n",
    "    data = pickle.load(file)\n",
    "\n",
    "regressor_loaded = data[\"model\"]\n",
    "\n",
    "le_sex =data[\"le_sex\"]\n",
    "le_month= data['le_month']\n",
    "le_HOB = data['le_HOB']\n",
    "le_Deh=data['le_Deh'] \n",
    "le_CWI=data['le_CWI'] \n",
    "le_vomit=data['le_vomit']\n",
    "le_Sick=data['le_Sick']\n",
    "binarizer =data['binarizer']"
   ]
  },
  {
   "cell_type": "code",
   "execution_count": 63,
   "id": "16ff00e6",
   "metadata": {},
   "outputs": [
    {
     "data": {
      "text/plain": [
       "array([[0, 0, 0, 0, 0, 0, 0, 0, 0, 0, 0, 0, 1, 0, 0, 0, 0, 0, 0, 0, 0, 0]])"
      ]
     },
     "execution_count": 63,
     "metadata": {},
     "output_type": "execute_result"
    }
   ],
   "source": [
    "y_pred = regressor_loaded.predict(x)\n",
    "y_pred"
   ]
  },
  {
   "cell_type": "code",
   "execution_count": 64,
   "id": "65993c6e",
   "metadata": {},
   "outputs": [
    {
     "name": "stdout",
     "output_type": "stream",
     "text": [
      "[('Malaria',)]\n"
     ]
    }
   ],
   "source": [
    "A =binarizer.inverse_transform(y_pred)\n",
    "\n",
    "print(A)"
   ]
  },
  {
   "cell_type": "markdown",
   "id": "ca175dae",
   "metadata": {},
   "source": []
  },
  {
   "cell_type": "code",
   "execution_count": 65,
   "id": "294e5cea",
   "metadata": {},
   "outputs": [
    {
     "data": {
      "text/html": [
       "<div>\n",
       "<style scoped>\n",
       "    .dataframe tbody tr th:only-of-type {\n",
       "        vertical-align: middle;\n",
       "    }\n",
       "\n",
       "    .dataframe tbody tr th {\n",
       "        vertical-align: top;\n",
       "    }\n",
       "\n",
       "    .dataframe thead th {\n",
       "        text-align: right;\n",
       "    }\n",
       "</style>\n",
       "<table border=\"1\" class=\"dataframe\">\n",
       "  <thead>\n",
       "    <tr style=\"text-align: right;\">\n",
       "      <th></th>\n",
       "      <th>Age at Diagnosis</th>\n",
       "      <th>Sex</th>\n",
       "      <th>Month</th>\n",
       "      <th>Onset</th>\n",
       "      <th>Hotness of Body</th>\n",
       "      <th>Dehydration</th>\n",
       "      <th>Chest wall indrawing</th>\n",
       "      <th>Vomiting</th>\n",
       "      <th>Sick Looking</th>\n",
       "      <th>Highest Temperature</th>\n",
       "    </tr>\n",
       "  </thead>\n",
       "  <tbody>\n",
       "    <tr>\n",
       "      <th>0</th>\n",
       "      <td>1</td>\n",
       "      <td>1</td>\n",
       "      <td>11</td>\n",
       "      <td>7</td>\n",
       "      <td>0</td>\n",
       "      <td>0</td>\n",
       "      <td>0</td>\n",
       "      <td>0</td>\n",
       "      <td>1</td>\n",
       "      <td>36.7</td>\n",
       "    </tr>\n",
       "    <tr>\n",
       "      <th>1</th>\n",
       "      <td>1</td>\n",
       "      <td>1</td>\n",
       "      <td>8</td>\n",
       "      <td>1</td>\n",
       "      <td>1</td>\n",
       "      <td>0</td>\n",
       "      <td>0</td>\n",
       "      <td>0</td>\n",
       "      <td>1</td>\n",
       "      <td>38.9</td>\n",
       "    </tr>\n",
       "    <tr>\n",
       "      <th>2</th>\n",
       "      <td>1</td>\n",
       "      <td>1</td>\n",
       "      <td>4</td>\n",
       "      <td>2</td>\n",
       "      <td>1</td>\n",
       "      <td>0</td>\n",
       "      <td>1</td>\n",
       "      <td>1</td>\n",
       "      <td>1</td>\n",
       "      <td>36.9</td>\n",
       "    </tr>\n",
       "    <tr>\n",
       "      <th>3</th>\n",
       "      <td>2</td>\n",
       "      <td>1</td>\n",
       "      <td>0</td>\n",
       "      <td>3</td>\n",
       "      <td>1</td>\n",
       "      <td>0</td>\n",
       "      <td>0</td>\n",
       "      <td>1</td>\n",
       "      <td>1</td>\n",
       "      <td>38.8</td>\n",
       "    </tr>\n",
       "    <tr>\n",
       "      <th>4</th>\n",
       "      <td>5</td>\n",
       "      <td>0</td>\n",
       "      <td>8</td>\n",
       "      <td>3</td>\n",
       "      <td>1</td>\n",
       "      <td>0</td>\n",
       "      <td>0</td>\n",
       "      <td>0</td>\n",
       "      <td>1</td>\n",
       "      <td>39.5</td>\n",
       "    </tr>\n",
       "    <tr>\n",
       "      <th>...</th>\n",
       "      <td>...</td>\n",
       "      <td>...</td>\n",
       "      <td>...</td>\n",
       "      <td>...</td>\n",
       "      <td>...</td>\n",
       "      <td>...</td>\n",
       "      <td>...</td>\n",
       "      <td>...</td>\n",
       "      <td>...</td>\n",
       "      <td>...</td>\n",
       "    </tr>\n",
       "    <tr>\n",
       "      <th>187</th>\n",
       "      <td>1</td>\n",
       "      <td>0</td>\n",
       "      <td>10</td>\n",
       "      <td>2</td>\n",
       "      <td>1</td>\n",
       "      <td>0</td>\n",
       "      <td>0</td>\n",
       "      <td>1</td>\n",
       "      <td>0</td>\n",
       "      <td>39.2</td>\n",
       "    </tr>\n",
       "    <tr>\n",
       "      <th>188</th>\n",
       "      <td>10</td>\n",
       "      <td>1</td>\n",
       "      <td>11</td>\n",
       "      <td>2</td>\n",
       "      <td>0</td>\n",
       "      <td>1</td>\n",
       "      <td>0</td>\n",
       "      <td>1</td>\n",
       "      <td>1</td>\n",
       "      <td>37.8</td>\n",
       "    </tr>\n",
       "    <tr>\n",
       "      <th>189</th>\n",
       "      <td>11</td>\n",
       "      <td>0</td>\n",
       "      <td>10</td>\n",
       "      <td>2</td>\n",
       "      <td>0</td>\n",
       "      <td>0</td>\n",
       "      <td>0</td>\n",
       "      <td>1</td>\n",
       "      <td>0</td>\n",
       "      <td>37.8</td>\n",
       "    </tr>\n",
       "    <tr>\n",
       "      <th>190</th>\n",
       "      <td>2</td>\n",
       "      <td>1</td>\n",
       "      <td>10</td>\n",
       "      <td>30</td>\n",
       "      <td>0</td>\n",
       "      <td>1</td>\n",
       "      <td>0</td>\n",
       "      <td>0</td>\n",
       "      <td>1</td>\n",
       "      <td>38.5</td>\n",
       "    </tr>\n",
       "    <tr>\n",
       "      <th>191</th>\n",
       "      <td>1</td>\n",
       "      <td>0</td>\n",
       "      <td>10</td>\n",
       "      <td>2</td>\n",
       "      <td>1</td>\n",
       "      <td>0</td>\n",
       "      <td>0</td>\n",
       "      <td>1</td>\n",
       "      <td>1</td>\n",
       "      <td>39.5</td>\n",
       "    </tr>\n",
       "  </tbody>\n",
       "</table>\n",
       "<p>189 rows × 10 columns</p>\n",
       "</div>"
      ],
      "text/plain": [
       "     Age at Diagnosis  Sex  Month  Onset  Hotness of Body  Dehydration  \\\n",
       "0                   1    1     11      7                0            0   \n",
       "1                   1    1      8      1                1            0   \n",
       "2                   1    1      4      2                1            0   \n",
       "3                   2    1      0      3                1            0   \n",
       "4                   5    0      8      3                1            0   \n",
       "..                ...  ...    ...    ...              ...          ...   \n",
       "187                 1    0     10      2                1            0   \n",
       "188                10    1     11      2                0            1   \n",
       "189                11    0     10      2                0            0   \n",
       "190                 2    1     10     30                0            1   \n",
       "191                 1    0     10      2                1            0   \n",
       "\n",
       "     Chest wall indrawing  Vomiting  Sick Looking  Highest Temperature  \n",
       "0                       0         0             1                 36.7  \n",
       "1                       0         0             1                 38.9  \n",
       "2                       1         1             1                 36.9  \n",
       "3                       0         1             1                 38.8  \n",
       "4                       0         0             1                 39.5  \n",
       "..                    ...       ...           ...                  ...  \n",
       "187                     0         1             0                 39.2  \n",
       "188                     0         1             1                 37.8  \n",
       "189                     0         1             0                 37.8  \n",
       "190                     0         0             1                 38.5  \n",
       "191                     0         1             1                 39.5  \n",
       "\n",
       "[189 rows x 10 columns]"
      ]
     },
     "execution_count": 65,
     "metadata": {},
     "output_type": "execute_result"
    }
   ],
   "source": [
    "X"
   ]
  }
 ],
 "metadata": {
  "interpreter": {
   "hash": "59f17c88da3188f766e5b8e866c702ee87a6683fb000455e6fb355e389044011"
  },
  "kernelspec": {
   "display_name": "ml",
   "language": "python",
   "name": "python3"
  },
  "language_info": {
   "codemirror_mode": {
    "name": "ipython",
    "version": 3
   },
   "file_extension": ".py",
   "mimetype": "text/x-python",
   "name": "python",
   "nbconvert_exporter": "python",
   "pygments_lexer": "ipython3",
   "version": "3.9.7"
  }
 },
 "nbformat": 4,
 "nbformat_minor": 5
}
